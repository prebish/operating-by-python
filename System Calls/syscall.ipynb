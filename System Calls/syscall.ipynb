{
 "cells": [
  {
   "cell_type": "markdown",
   "metadata": {},
   "source": [
    "# System Call Process Demo\n",
    "\n",
    "This interactive demonstration illustrates the implementation of a system call.  \n",
    "While it is based on the xv6 operating system, it uses Python to simplify the concepts and enhance understanding.\n",
    "\n",
    "---\n",
    "\n"
   ]
  },
  {
   "cell_type": "markdown",
   "metadata": {},
   "source": [
    "### **What to Know**\n",
    "\n",
    "**Conceptual Overview**\n",
    "\n",
    "To simplify a bit, the steps an OS will take to perform a system call are:\n",
    "1. User Mode\n",
    "    - The user space initiates a system call using a wrapper function provided by a library. For C lang, that would be `glibc`\n",
    "2. Transition to Kernel Mode\n",
    "    - The OS performs a context switch to temporarily change from user mode to kernel mode.\n",
    "3. Kernel Mode \n",
    "    - This mode gives us full control over hardware and system resources. Enabling us to perform critical tasks and manage the system.\n",
    "4. Execution of the System Call\n",
    "    - Kernel identifies the syscall and executes the corresponding function to perform the operation.\n",
    "5. Transition back to User Mode\n",
    "    - OS performs another context switch to return from kernel mode to user mode, passing the result back to the user application.  \n",
    "    \n",
    "<hr style=\"border: none; border-top: 1px dashed #ccc;\" />\n",
    "\n",
    "\n",
    "**How a Syscall is Defined**\n",
    "\n",
    "In order to define a system call to the operating system, we need multiple files which will all work together to tell the OS *exactly* what it needs to perform properly.\n",
    "1. `user.h`\n",
    "    - Declares user-space functions for making syscalls. It contains declarations of functions (wrappers) that user-space programs can call to perform system calls.\n",
    "2. `usys.S`\n",
    "    - Assembly code that will select the correct syscall for the OS to use. (The one which the user selected)\n",
    "3. `syscall.h`\n",
    "    - Defines the unique numbers for each system call. These numbers are used by the user-space program and the system call interface (usys.S) to identify which system call to execute. \n",
    "4. `syscall.c`\n",
    "    - Dispatches the syscall using definitions and tables to read the syscall number from the process's register, looks up the corresponding handler in the table, then executes the handler (if valid) or returns an error.\n",
    "5. `sysproc.c`\n",
    "    - Contains the implementation of the actual system call handler functions. It defines what each system call should do when invoked.\n",
    "---\n",
    "\n"
   ]
  },
  {
   "cell_type": "markdown",
   "metadata": {},
   "source": [
    "### **Imports**"
   ]
  },
  {
   "cell_type": "code",
   "execution_count": null,
   "metadata": {},
   "outputs": [],
   "source": [
    "import time, sys"
   ]
  },
  {
   "cell_type": "markdown",
   "metadata": {},
   "source": [
    "### **Implementing System Calls**\n",
    "\n",
    "**SYSCALL.H**\n",
    "\n",
    "Let's start by going in our \"operating system\"'s syscall.h \"file\" and make some constants and assign them their system call numbers:"
   ]
  },
  {
   "cell_type": "code",
   "execution_count": null,
   "metadata": {},
   "outputs": [],
   "source": [
    "# syscall.h\n",
    "SYSCALL_ECHO = 0\n",
    "SYSCALL_TIME = 1\n",
    "\n",
    "time.sleep(1); print(\"\\033[92mReading System Call Numbers...\\033[0m\")"
   ]
  },
  {
   "cell_type": "markdown",
   "metadata": {},
   "source": [
    "**SYSPROC.C**\n",
    "\n",
    "Now we take a look at our sysproc.c \"file\" and add our implementation of our custom system call."
   ]
  },
  {
   "cell_type": "code",
   "execution_count": null,
   "metadata": {},
   "outputs": [],
   "source": [
    "# sysproc.c: Kernel functions\n",
    "def kernel_echo(message):\n",
    "    sys.stdout.write(f\"{message}\\n\")\n",
    "    sys.stdout.flush() # Ensure message prints immediately\n",
    "\n",
    "def kernel_time():\n",
    "    return time.time()\n",
    "\n",
    "# sysproc.c: Syscall table\n",
    "syscall_table = {\n",
    "    SYSCALL_ECHO: kernel_echo,\n",
    "    SYSCALL_TIME: kernel_time\n",
    "}\n",
    "\n",
    "print(\"\\033[92mReferencing definitions and table to find system call function...\\033[0m\")"
   ]
  },
  {
   "cell_type": "markdown",
   "metadata": {},
   "source": [
    "**SYSCALL.C**\n",
    "\n",
    "The system call interface for the OS"
   ]
  },
  {
   "cell_type": "code",
   "execution_count": null,
   "metadata": {},
   "outputs": [],
   "source": [
    "# syscall.c: Syscall interface\n",
    "def syscall(syscall_number, *args):\n",
    "    # Transition to Kernel Mode\n",
    "    time.sleep(2); print(f\"\\033[92mTransition: Switching to Kernel Mode for syscall {syscall_number}\\033[0m\")\n",
    "    \n",
    "    # Simulate the kernel's handling of the syscall\n",
    "    if syscall_number in syscall_table:\n",
    "        result = syscall_table[syscall_number](*args)\n",
    "        \n",
    "        # Return to User Mode\n",
    "        time.sleep(2); print(\"\\033[92mReturn: Switching back to User Mode\\033[0m\")\n",
    "        return result\n",
    "    else:\n",
    "        raise ValueError(\"Invalid syscall number\")\n",
    "\n",
    "print(f\"\\033[92mLoading system call interface...\\033[0m\")"
   ]
  },
  {
   "cell_type": "markdown",
   "metadata": {},
   "source": [
    "**USYS.S**\n",
    "\n",
    "Now we edit the assembly code that helps the OS bridge together the high level definitions of our system call to the low-level instructions that we need to execute."
   ]
  },
  {
   "cell_type": "code",
   "execution_count": null,
   "metadata": {},
   "outputs": [],
   "source": [
    "# usys.S: Low-level syscall interface (simulated in Python)\n",
    "def low_level_syscall(syscall_number, *args):\n",
    "    time.sleep(2); print(f\"\\033[92mInitializing low-level system call handler (asm) ...\\033[0m\")\n",
    "\n",
    "    # NOTE This function would actually use assembly in a real OS\n",
    "    return syscall(syscall_number, *args)\n",
    "\n",
    "print(f\"\\033[92mInitializing low-level system call handler (asm) ...\\033[0m\")"
   ]
  },
  {
   "cell_type": "markdown",
   "metadata": {},
   "source": [
    "**USER.H**\n",
    "\n",
    "Contains the user level system call definitions. What we see when *we* use the syscalls."
   ]
  },
  {
   "cell_type": "code",
   "execution_count": null,
   "metadata": {},
   "outputs": [],
   "source": [
    "# user.h: User program interface\n",
    "def echo(message):\n",
    "    low_level_syscall(SYSCALL_ECHO, message)\n",
    "\n",
    "def get_time():\n",
    "    return low_level_syscall(SYSCALL_TIME)\n",
    "\n",
    "print(f\"\\033[92mReading user level system call definitions...\\033[0m\")"
   ]
  },
  {
   "cell_type": "markdown",
   "metadata": {},
   "source": [
    "### **MAIN.C** (Our program)\n",
    "\"Compile\" and run the OS, and use our custom SYSCALLS!\n",
    "\n",
    "Remember: in reality, the calls will be super fast. I've slowed them down to make it easier to see whats happening."
   ]
  },
  {
   "cell_type": "code",
   "execution_count": 7,
   "metadata": {},
   "outputs": [],
   "source": [
    "# MAIN.C: Main execution\n",
    "def main():\n",
    "    while True:\n",
    "        cmd = input(\"OS >> \")\n",
    "        if cmd == \"exit\":\n",
    "            break\n",
    "        elif cmd == \"time\":\n",
    "            print(get_time())\n",
    "        elif cmd.startswith(\"echo \"):\n",
    "            echo(cmd[5:])\n",
    "        else:\n",
    "            print(\"Unknown command\")\n",
    "\n",
    "if __name__ == \"__main__\":\n",
    "    main()"
   ]
  }
 ],
 "metadata": {
  "kernelspec": {
   "display_name": "Python 3",
   "language": "python",
   "name": "python3"
  },
  "language_info": {
   "codemirror_mode": {
    "name": "ipython",
    "version": 3
   },
   "file_extension": ".py",
   "mimetype": "text/x-python",
   "name": "python",
   "nbconvert_exporter": "python",
   "pygments_lexer": "ipython3",
   "version": "3.12.3"
  }
 },
 "nbformat": 4,
 "nbformat_minor": 2
}
