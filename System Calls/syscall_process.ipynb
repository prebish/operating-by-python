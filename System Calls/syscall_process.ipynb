{
 "cells": [
  {
   "cell_type": "markdown",
   "metadata": {},
   "source": [
    "# System Call Process Demo\n",
    "---"
   ]
  },
  {
   "cell_type": "markdown",
   "metadata": {},
   "source": [
    "### **Before We Begin...**\n",
    "Let's start out simple. \n",
    "\n",
    "***With Imports:***\n",
    "\n",
    "- **`time`**: Provides various time-related functions, such as measuring elapsed time and getting the current time.\n",
    "- **`threading`**: Supports creating and managing threads, including synchronization primitives like locks."
   ]
  },
  {
   "cell_type": "code",
   "execution_count": 1,
   "metadata": {},
   "outputs": [],
   "source": [
    "import time, threading"
   ]
  },
  {
   "cell_type": "markdown",
   "metadata": {},
   "source": [
    "### **What to Know**\n",
    "\n",
    "**Conceptual Overview**\n",
    "\n",
    "To simplify a bit, the steps an OS will take to perform a system call are:\n",
    "1. User Mode\n",
    "    - The user space initiates a system call using a wrapper function provided by a library. For C lang, that would be `glibc`\n",
    "2. Transition to Kernel Mode\n",
    "    - The OS performs a context switch to temporarily change from user mode to kernel mode.\n",
    "3. Kernel Mode \n",
    "    - This mode gives us full control over hardware and system resources. Enabling us to perform critical tasks and manage the system.\n",
    "4. Execution of the System Call\n",
    "    - Kernel identifies the syscall and executes the corresponding function to perform the operation.\n",
    "5. Transition back to User Mode\n",
    "    - OS performs another context switch to return from kernel mode to user mode, passing the result back to the user application.  \n",
    "    \n",
    "<hr style=\"border: none; border-top: 1px dashed #ccc;\" />\n",
    "\n",
    "\n",
    "**How a Syscall is Defined**\n",
    "\n",
    "In order to define a system call to the operating system, we need multiple files which will all work together to tell the OS *exactly* what it needs to perform properly.\n",
    "1. `user.h`\n",
    "    - Declares user-space functions for making syscalls. It contains declarations of functions (wrappers) that user-space programs can call to perform system calls.\n",
    "2. `usys.S`\n",
    "    - Assembly code that will select the correct syscall for the OS to use. (The one which the user selected)\n",
    "3. `syscall.h`\n",
    "    - Defines the unique numbers for each system call. These numbers are used by the user-space program and the system call interface (usys.S) to identify which system call to execute. \n",
    "4. `syscall.c`\n",
    "    - Dispatches the syscall using definitions and tables to read the syscall number from the process's register, looks up the corresponding handler in the table, then executes the handler (if valid) or returns an error.\n",
    "5. `sysproc.c`\n",
    "    - Contains the implementation of the actual system call handler functions. It defines what each system call should do when invoked.\n",
    "---\n",
    "\n"
   ]
  },
  {
   "cell_type": "markdown",
   "metadata": {},
   "source": [
    "### **Making System Calls**\n",
    "\n",
    "#### **syscall.h**\n",
    "Let's start by going in our \"operating system\"'s syscall.h \"file\" and make some constants and assign them their system call numbers:"
   ]
  },
  {
   "cell_type": "code",
   "execution_count": 2,
   "metadata": {},
   "outputs": [],
   "source": [
    "# syscall.h\n",
    "SYSCALL_PRINT = 0\n",
    "SYSCALL_TIME = 1"
   ]
  },
  {
   "cell_type": "markdown",
   "metadata": {},
   "source": []
  },
  {
   "cell_type": "code",
   "execution_count": null,
   "metadata": {},
   "outputs": [],
   "source": []
  },
  {
   "cell_type": "markdown",
   "metadata": {},
   "source": []
  },
  {
   "cell_type": "code",
   "execution_count": null,
   "metadata": {},
   "outputs": [],
   "source": []
  },
  {
   "cell_type": "markdown",
   "metadata": {},
   "source": []
  },
  {
   "cell_type": "code",
   "execution_count": null,
   "metadata": {},
   "outputs": [],
   "source": []
  }
 ],
 "metadata": {
  "kernelspec": {
   "display_name": "Python 3",
   "language": "python",
   "name": "python3"
  },
  "language_info": {
   "codemirror_mode": {
    "name": "ipython",
    "version": 3
   },
   "file_extension": ".py",
   "mimetype": "text/x-python",
   "name": "python",
   "nbconvert_exporter": "python",
   "pygments_lexer": "ipython3",
   "version": "3.12.3"
  }
 },
 "nbformat": 4,
 "nbformat_minor": 2
}
